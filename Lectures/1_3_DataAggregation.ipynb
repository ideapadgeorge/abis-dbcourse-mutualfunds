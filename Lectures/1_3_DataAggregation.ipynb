{
 "cells": [
  {
   "cell_type": "markdown",
   "metadata": {
    "slideshow": {
     "slide_type": "slide"
    }
   },
   "source": [
    "# Lecture 1.3 : Aggregate information across share classes\n",
    "**From:**\n",
    "- *CRSP_FUNDNO* = sub-fund (share class)\n",
    "- *CALDT* = calendar date at quarter end\n",
    "\n",
    "**To:**\n",
    "- *CRSP_CL_GRP* =fund of interest\n",
    "- *CALDT* = calendar date at quarter end"
   ]
  },
  {
   "cell_type": "markdown",
   "metadata": {
    "slideshow": {
     "slide_type": "subslide"
    }
   },
   "source": [
    "## Objectives :\n",
    "- Create sensible mapping of funds to unique IDs\n",
    "- Fix outliers of TNA measures\n",
    "- Aggregate information across share classes"
   ]
  },
  {
   "cell_type": "markdown",
   "metadata": {
    "slideshow": {
     "slide_type": "slide"
    }
   },
   "source": [
    "## Import Settings"
   ]
  },
  {
   "cell_type": "code",
   "execution_count": null,
   "metadata": {
    "slideshow": {
     "slide_type": "fragment"
    }
   },
   "outputs": [],
   "source": [
    "import os\n",
    "import sys\n",
    "module_path = os.path.abspath(os.path.join(\"..\"))\n",
    "if module_path not in sys.path:\n",
    "    sys.path.append(module_path)\n",
    "import Functions.Utilis\n",
    "from settings import *"
   ]
  },
  {
   "cell_type": "markdown",
   "metadata": {
    "slideshow": {
     "slide_type": "slide"
    }
   },
   "source": [
    "## Load Files"
   ]
  },
  {
   "cell_type": "code",
   "execution_count": null,
   "metadata": {
    "slideshow": {
     "slide_type": "fragment"
    }
   },
   "outputs": [],
   "source": [
    "print('Loading needed files...')\n",
    "fund_summary_ActiveEq = pd.read_csv(outputPath + fund_summary_ActiveEq_name)\n",
    "fund_port_map = pd.read_csv(inputPath + map_fundno_portno_name)\n",
    "monthly_return = pd.read_csv(inputPath + monthly_return_name)\n",
    "monthly_return = monthly_return[['crsp_fundno', 'caldt', 'mtna']]\n",
    "print('Loading complete!')"
   ]
  },
  {
   "cell_type": "markdown",
   "metadata": {
    "slideshow": {
     "slide_type": "slide"
    }
   },
   "source": [
    "## Convert Data to Correct Types"
   ]
  },
  {
   "cell_type": "code",
   "execution_count": null,
   "metadata": {
    "slideshow": {
     "slide_type": "fragment"
    }
   },
   "outputs": [],
   "source": [
    "print('Converting columns to the correct data types...')\n",
    "t0 = time.time()\n",
    "# fund_port_map\n",
    "fund_port_map['begdt'] = pd.to_datetime(fund_port_map['begdt'])\n",
    "fund_port_map['begdt'] = fund_port_map['begdt'] .apply(lambda x: x + relativedelta(day=31))\n",
    "fund_port_map['enddt'] = pd.to_datetime(fund_port_map['enddt'])\n",
    "fund_port_map['enddt'] = fund_port_map['enddt'] .apply(lambda x: x + relativedelta(day=31))\n",
    "# fund_summary_ActiveEq\n",
    "col_dt_list = [x for x in fund_summary_ActiveEq if x.endswith('dt')]\n",
    "for col in col_dt_list:\n",
    "    fund_summary_ActiveEq[col] = pd.to_datetime(fund_summary_ActiveEq[col])\n",
    "    fund_summary_ActiveEq[col] = fund_summary_ActiveEq[col].apply(lambda x: x + relativedelta(day=31))\n",
    "# monthly_return\n",
    "monthly_return['caldt'] = pd.to_datetime(monthly_return['caldt'])\n",
    "monthly_return['caldt'] = monthly_return['caldt'].apply(lambda x: x + relativedelta(day=31))\n",
    "monthly_return.rename(columns={'caldt': 'monthend'}, inplace=True)\n",
    "monthly_return.mtna = monthly_return.mtna.apply(lambda x: np.nan if (x == 'T') or (float(x) < 0) else x)\n",
    "monthly_return.mtna = monthly_return.mtna.apply(float)\n",
    "t1 = time.time()\n",
    "print('Columns converted in:', t1-t0, 's')"
   ]
  },
  {
   "cell_type": "markdown",
   "metadata": {
    "slideshow": {
     "slide_type": "slide"
    }
   },
   "source": [
    "# Keep if caldt > Dec 31st 1989"
   ]
  },
  {
   "cell_type": "code",
   "execution_count": null,
   "metadata": {
    "slideshow": {
     "slide_type": "fragment"
    }
   },
   "outputs": [],
   "source": [
    "fund_summary_ActiveEq = fund_summary_ActiveEq.loc[fund_summary_ActiveEq['caldt'] >= dt.datetime(1989, 12, 31)]\n",
    "print('The shape of fund_summary_ActiveEq is: ', str(fund_summary_ActiveEq.shape))\n",
    "print('The minimum caldt for fund_summary_ActiveEq is: ', fund_summary_ActiveEq.caldt.min())"
   ]
  },
  {
   "cell_type": "markdown",
   "metadata": {
    "slideshow": {
     "slide_type": "slide"
    }
   },
   "source": [
    "# Correct wficn for specific fundno\n",
    "Manual correction:\n",
    "\n",
    "fundno 53319 has wficn --> 107336\n",
    "\n",
    "fundno 64229 has wficn --> 400136\n",
    "\n",
    "fundno in [24644, 24645, 24646, 24647, 24648, 40851, 42067, 43344, 46514, 58716, 58717, 58718] --> wficn 501561"
   ]
  },
  {
   "cell_type": "code",
   "execution_count": null,
   "metadata": {
    "slideshow": {
     "slide_type": "subslide"
    }
   },
   "outputs": [],
   "source": [
    "print('Correcting wficn for specific fundnos...')\n",
    "fund_summary_ActiveEq.loc[fund_summary_ActiveEq.crsp_fundno == 53319, 'wficn'] = 107336\n",
    "fund_summary_ActiveEq.loc[fund_summary_ActiveEq.crsp_fundno == 64229, 'wficn'] = 400136\n",
    "fund_summary_ActiveEq.loc[fund_summary_ActiveEq.crsp_fundno.isin([24644, 24645, 24646, 24647, 24648, 40851, 42067,\n",
    "                                                                  43344, 46514, 58716, 58717, 58718]), 'wficn'] = 501561\n",
    "print(\"Observations corrected!\")"
   ]
  },
  {
   "cell_type": "markdown",
   "metadata": {
    "slideshow": {
     "slide_type": "slide"
    }
   },
   "source": [
    "## Create unique Group ID mapping between CRSP_CL_GRP and WFICN"
   ]
  },
  {
   "cell_type": "code",
   "execution_count": null,
   "metadata": {
    "slideshow": {
     "slide_type": "fragment"
    }
   },
   "outputs": [],
   "source": [
    "print('Keeping observations for which both crsp_cl_grp & wficn are present...')\n",
    "df = fund_summary_ActiveEq.loc[(fund_summary_ActiveEq.wficn.notnull()) &\n",
    "                               (fund_summary_ActiveEq.crsp_cl_grp.notnull()), ]"
   ]
  },
  {
   "cell_type": "markdown",
   "metadata": {
    "slideshow": {
     "slide_type": "slide"
    }
   },
   "source": [
    "## UNIQUE MAP FROM CRSP_CL_GRP TO WFICN\n",
    "### for each crsp_fundno return a list of all unique wficn into a dictionary"
   ]
  },
  {
   "cell_type": "code",
   "execution_count": null,
   "metadata": {
    "slideshow": {
     "slide_type": "fragment"
    }
   },
   "outputs": [],
   "source": [
    "fundno_wficn_dict = df.groupby('crsp_fundno')['wficn'].apply(np.unique).apply(lambda x: x[0]).to_dict()"
   ]
  },
  {
   "cell_type": "markdown",
   "metadata": {
    "slideshow": {
     "slide_type": "fragment"
    }
   },
   "source": [
    "### Return a dataframe that associates to each crsp_cl_group all unique crsp_fundnos"
   ]
  },
  {
   "cell_type": "code",
   "execution_count": null,
   "metadata": {
    "slideshow": {
     "slide_type": "fragment"
    }
   },
   "outputs": [],
   "source": [
    "df2 = df.groupby(['crsp_cl_grp'])['crsp_fundno'].apply(np.unique).reset_index()"
   ]
  },
  {
   "cell_type": "markdown",
   "metadata": {
    "slideshow": {
     "slide_type": "subslide"
    }
   },
   "source": [
    "### Add a column to the dataframe that uses the dictionary to match the wficns relative to the crsp_fundnos"
   ]
  },
  {
   "cell_type": "code",
   "execution_count": null,
   "metadata": {
    "slideshow": {
     "slide_type": "fragment"
    }
   },
   "outputs": [],
   "source": [
    "df2['wficn'] = df2.crsp_fundno.apply(lambda x: np.unique([fundno_wficn_dict[idx] for idx in x]))"
   ]
  },
  {
   "cell_type": "markdown",
   "metadata": {
    "slideshow": {
     "slide_type": "subslide"
    }
   },
   "source": [
    "### Keep the most frequent wficn when multiple are present"
   ]
  },
  {
   "cell_type": "code",
   "execution_count": null,
   "metadata": {
    "slideshow": {
     "slide_type": "fragment"
    }
   },
   "outputs": [],
   "source": [
    "df2.wficn = df2.crsp_fundno.apply(lambda x: stats.mode([fundno_wficn_dict[idx] for idx in x])[0][0])"
   ]
  },
  {
   "cell_type": "markdown",
   "metadata": {
    "slideshow": {
     "slide_type": "subslide"
    }
   },
   "source": [
    "### Keep the observations with unique mapping"
   ]
  },
  {
   "cell_type": "code",
   "execution_count": null,
   "metadata": {
    "slideshow": {
     "slide_type": "fragment"
    }
   },
   "outputs": [],
   "source": [
    "unique_groupid_mapping1 = df2[['crsp_cl_grp', 'wficn']]"
   ]
  },
  {
   "cell_type": "markdown",
   "metadata": {
    "slideshow": {
     "slide_type": "slide"
    }
   },
   "source": [
    "## UNIQUE MAP FROM WFICN TO CRSP_CL_GRP"
   ]
  },
  {
   "cell_type": "code",
   "execution_count": null,
   "metadata": {
    "slideshow": {
     "slide_type": "fragment"
    }
   },
   "outputs": [],
   "source": [
    "# for each wficn it returns a list of all unique crsp_fundno into a dictionary\n",
    "fundno_crspclgrp_dict = df.groupby('crsp_fundno')['crsp_cl_grp'].apply(np.unique).apply(lambda x: x[0]).to_dict()\n",
    "# return a dataframe that associates to each wficn all unique crsp_fundnos\n",
    "df3 = df.groupby(['wficn'])['crsp_fundno'].apply(np.unique).reset_index()\n",
    "# add a column to the dataframe that uses the dictionary to match the crsp_cl_grps relative to the crsp_fundnos\n",
    "df3['crsp_cl_grp'] = df3.crsp_fundno.apply(lambda x: np.unique([fundno_crspclgrp_dict[idx] for idx in x]))\n",
    "# show example of crsp_cl_grp problem to be fixed (wrong naming convention)\n",
    "b = fund_summary_ActiveEq[colList].loc[(fund_summary_ActiveEq.crsp_cl_grp == 2003338) |\n",
    "                                       (fund_summary_ActiveEq.crsp_cl_grp == 2017461)].sort_values(['crsp_cl_grp',\n",
    "                                                                                                    'caldt'])\n",
    "# keep the most frequent crsp_cl_grp when multiple are present (reproduce Excel file with examples of the problem)\n",
    "df3.crsp_cl_grp = df3.crsp_fundno.apply(lambda x: stats.mode([fundno_crspclgrp_dict[idx] for idx in x])[0][0])\n",
    "# keep the observations with unique mapping\n",
    "unique_groupid_mapping2 = df3[['crsp_cl_grp', 'wficn']]\n",
    "print('Map completed!')"
   ]
  },
  {
   "cell_type": "markdown",
   "metadata": {
    "slideshow": {
     "slide_type": "slide"
    }
   },
   "source": [
    "## Create a unique two way map between crsp_cl_grp and wficn"
   ]
  },
  {
   "cell_type": "code",
   "execution_count": null,
   "metadata": {
    "slideshow": {
     "slide_type": "fragment"
    }
   },
   "outputs": [],
   "source": [
    "# this eliminates 291 combinations (11 from wficn and 280 from crsp_cl_grp) that are wrongfully assigned due\n",
    "# to the naming conventions displayed above\n",
    "unique_groupid_mapping = pd.merge(unique_groupid_mapping1, unique_groupid_mapping2, how='inner',\n",
    "                                  on=['crsp_cl_grp', 'wficn'])"
   ]
  },
  {
   "cell_type": "markdown",
   "metadata": {
    "slideshow": {
     "slide_type": "slide"
    }
   },
   "source": [
    "## Create unique mapping between crsp_cl_grp and wficn for funds that only existed before 1999 (no crsp_cl_grp assigned)"
   ]
  },
  {
   "cell_type": "code",
   "execution_count": null,
   "metadata": {
    "slideshow": {
     "slide_type": "fragment"
    }
   },
   "outputs": [],
   "source": [
    "wficn_before = np.unique(fund_summary_ActiveEq.loc[(fund_summary_ActiveEq.crsp_cl_grp.isnull()) &\n",
    "                                                   (fund_summary_ActiveEq.wficn.notnull()) &\n",
    "                                                   (~fund_summary_ActiveEq.wficn.isin(unique_groupid_mapping.wficn)),\n",
    "                                                   'wficn'])\n",
    "groupid_mapping_before = pd.DataFrame({'wficn': wficn_before,\n",
    "                                       'crsp_cl_grp': np.arange(1000001, 1000001+len(wficn_before))})\n"
   ]
  },
  {
   "cell_type": "markdown",
   "metadata": {
    "slideshow": {
     "slide_type": "slide"
    }
   },
   "source": [
    "## Generate dictionary"
   ]
  },
  {
   "cell_type": "code",
   "execution_count": null,
   "metadata": {
    "slideshow": {
     "slide_type": "fragment"
    }
   },
   "outputs": [],
   "source": [
    "unique_groupid_mapping = pd.concat([groupid_mapping_before, unique_groupid_mapping], axis=0, sort=False)\n",
    "wficn_crsp_cl_grp_dict = pd.Series(unique_groupid_mapping.crsp_cl_grp.values,\n",
    "                                   index=unique_groupid_mapping.wficn).to_dict()\n",
    "crsp_cl_grp_wficn_dict = pd.Series(unique_groupid_mapping.wficn.values,\n",
    "                                   index=unique_groupid_mapping.crsp_cl_grp).to_dict()"
   ]
  },
  {
   "cell_type": "markdown",
   "metadata": {
    "slideshow": {
     "slide_type": "slide"
    }
   },
   "source": [
    "# Fill missing wficn using the mapped crsp_cl_grp & viceversa"
   ]
  },
  {
   "cell_type": "code",
   "execution_count": null,
   "metadata": {
    "slideshow": {
     "slide_type": "fragment"
    }
   },
   "outputs": [],
   "source": [
    "print('Before there are:')\n",
    "print(\"- \", fund_summary_ActiveEq.loc[fund_summary_ActiveEq.crsp_cl_grp.isnull()].shape[0], 'missing crsp_cl_grp')\n",
    "print(\"-- Of which \", fund_summary_ActiveEq.loc[(fund_summary_ActiveEq.crsp_cl_grp.isnull()) &\n",
    "                                                (fund_summary_ActiveEq.caldt < dt.datetime(1998, 1, 1))].shape[0],\n",
    "      \"are before 1998\")\n",
    "print(\"- \", fund_summary_ActiveEq.loc[fund_summary_ActiveEq.wficn.isnull()].shape[0], 'missing wficn')\n",
    "print(\"-- Of which \", fund_summary_ActiveEq.loc[(fund_summary_ActiveEq.wficn.isnull()) &\n",
    "                                                (fund_summary_ActiveEq.caldt < dt.datetime(2008, 6, 1))].shape[0],\n",
    "      \"are before June 2008\")\n",
    "fund_summary_ActiveEq.loc[fund_summary_ActiveEq.wficn.isnull(), 'wficn'] = \\\n",
    "    fund_summary_ActiveEq.loc[fund_summary_ActiveEq.wficn.isnull(), 'crsp_cl_grp'].apply(Util.crsp_cl_grp2wficn,\n",
    "                                                                                         d=wficn_crsp_cl_grp_dict)"
   ]
  },
  {
   "cell_type": "markdown",
   "metadata": {
    "slideshow": {
     "slide_type": "slide"
    }
   },
   "source": [
    "## Fill in missing crsp_cl_grp and Correct crsp_cl_grp where different CRSP_CL_GRPs assigned to the same fund\n"
   ]
  },
  {
   "cell_type": "code",
   "execution_count": null,
   "metadata": {
    "slideshow": {
     "slide_type": "fragment"
    }
   },
   "outputs": [],
   "source": [
    "fund_summary_ActiveEq.loc[(fund_summary_ActiveEq.crsp_cl_grp.isnull()) |\n",
    "                          (fund_summary_ActiveEq.wficn.notnull()), 'crsp_cl_grp'] = \\\n",
    "    fund_summary_ActiveEq.loc[(fund_summary_ActiveEq.crsp_cl_grp.isnull()) | (fund_summary_ActiveEq.wficn.notnull()),\n",
    "                              'wficn'].apply(Util.wficn2crsp_cl_grp, d=wficn_crsp_cl_grp_dict)\n",
    "print('After filling there are:')\n",
    "print(\"- \", fund_summary_ActiveEq.loc[fund_summary_ActiveEq.crsp_cl_grp.isnull()].shape[0], 'missing crsp_cl_grp')\n",
    "print(\"-- Of which \", fund_summary_ActiveEq.loc[(fund_summary_ActiveEq.crsp_cl_grp.isnull()) &\n",
    "                                                (fund_summary_ActiveEq.caldt < dt.datetime(1998, 1, 1))].shape[0],\n",
    "      \"are before 1998\")\n",
    "print(\"- \", fund_summary_ActiveEq.loc[fund_summary_ActiveEq.wficn.isnull()].shape[0], 'missing wficn')\n",
    "print(\"-- Of which \", fund_summary_ActiveEq.loc[(fund_summary_ActiveEq.wficn.isnull()) &\n",
    "                                                (fund_summary_ActiveEq.caldt < dt.datetime(2008, 9, 1))].shape[0],\n",
    "      \"are before September 2008\")"
   ]
  },
  {
   "cell_type": "markdown",
   "metadata": {
    "slideshow": {
     "slide_type": "slide"
    }
   },
   "source": [
    "# Use the Fund-Portfolio Map dataset to fill CRSP_PORTNOS"
   ]
  },
  {
   "cell_type": "markdown",
   "metadata": {
    "slideshow": {
     "slide_type": "subslide"
    }
   },
   "source": [
    "## Find cases for which crsp_portno does not match between our file and the fund map for the appropriate date ranges\n"
   ]
  },
  {
   "cell_type": "code",
   "execution_count": null,
   "metadata": {
    "slideshow": {
     "slide_type": "fragment"
    }
   },
   "outputs": [],
   "source": [
    "fund_port_map.rename(columns={'crsp_portno': 'crsp_portno_map'}, inplace=True)\n",
    "test = pd.merge(fund_summary_ActiveEq, fund_port_map, how='left', on=['crsp_fundno'])\n",
    "test = test[((test.begdt < test.caldt) & (test.enddt > test.caldt))]\n",
    "test = test.loc[test.crsp_portno != test.crsp_portno_map]\n",
    "print('The number of missing crsp_portnos is distributed by date as follows:')\n",
    "print(test[test.crsp_portno.isnull()].caldt.value_counts())\n",
    "print('The number of wrong crsp_portnos is distributed by date as follows:')\n",
    "print(test[~test.crsp_portno.isnull()].caldt.value_counts())\n",
    "print('Before: the number of missing crsp_portno is:', sum(fund_summary_ActiveEq.crsp_portno.isnull()))\n",
    "print(\"-- Of which \", fund_summary_ActiveEq.loc[(fund_summary_ActiveEq.crsp_portno.isnull()) &\n",
    "                                                (fund_summary_ActiveEq.caldt >= dt.datetime(2008, 6, 1))].shape[0],\n",
    "      \"are after May 2008\")\n",
    "test = test[['caldt', 'crsp_fundno', 'crsp_portno_map']].reset_index(drop=True)"
   ]
  },
  {
   "cell_type": "markdown",
   "metadata": {
    "slideshow": {
     "slide_type": "subslide"
    }
   },
   "source": [
    "## Substitute the missing/wrong crsp_portnos in our file with the values in the map"
   ]
  },
  {
   "cell_type": "code",
   "execution_count": null,
   "metadata": {
    "slideshow": {
     "slide_type": "fragment"
    }
   },
   "outputs": [],
   "source": [
    "print('Before: the number of missing crsp_portno is', sum(fund_summary_ActiveEq.crsp_portno.isnull()))\n",
    "fund_summary_ActiveEq = pd.merge(fund_summary_ActiveEq, test, how='left', on=['crsp_fundno', 'caldt'])\n",
    "fund_summary_ActiveEq.loc[~fund_summary_ActiveEq['crsp_portno_map'].isnull(), 'crsp_portno'] = \\\n",
    "    fund_summary_ActiveEq['crsp_portno_map']\n",
    "fund_summary_ActiveEq = fund_summary_ActiveEq.drop(columns=['crsp_portno_map'])\n",
    "print('After: the number of missing crsp_portno is', sum(fund_summary_ActiveEq.crsp_portno.isnull()))\n",
    "print(\"-- Of which \", fund_summary_ActiveEq.loc[(fund_summary_ActiveEq.crsp_portno.isnull()) &\n",
    "                                                (fund_summary_ActiveEq.caldt >= dt.datetime(2008, 6, 1))].shape[0],\n",
    "      \"are after May 2008\")"
   ]
  },
  {
   "cell_type": "markdown",
   "metadata": {
    "slideshow": {
     "slide_type": "slide"
    }
   },
   "source": [
    "# Deal with multiple CRSP_PORTNOs per CRSP_CL_GRP-CALDT\n",
    "- Keep the most frequent portno (In the homework you will explore better methods) "
   ]
  },
  {
   "cell_type": "markdown",
   "metadata": {
    "slideshow": {
     "slide_type": "subslide"
    }
   },
   "source": [
    "### Count the occurrences of multiple portnos"
   ]
  },
  {
   "cell_type": "code",
   "execution_count": null,
   "metadata": {
    "slideshow": {
     "slide_type": "fragment"
    }
   },
   "outputs": [],
   "source": [
    "num_portno = fund_summary_ActiveEq.groupby(['crsp_cl_grp', 'caldt'])['crsp_portno'].nunique()\n",
    "mult_portno = num_portno[num_portno > 1]\n",
    "multi = mult_portno.reset_index()[['crsp_cl_grp', 'caldt']]\n",
    "multi = pd.merge(multi, fund_summary_ActiveEq, how='left', on=['crsp_cl_grp', 'caldt'])\n",
    "multiCounter = multi.groupby(['crsp_cl_grp', 'caldt'])['crsp_portno'].apply(list).reset_index()"
   ]
  },
  {
   "cell_type": "markdown",
   "metadata": {
    "slideshow": {
     "slide_type": "subslide"
    }
   },
   "source": [
    "### pick the most frequent crsp_portno per grp/date"
   ]
  },
  {
   "cell_type": "code",
   "execution_count": null,
   "metadata": {
    "slideshow": {
     "slide_type": "fragment"
    }
   },
   "outputs": [],
   "source": [
    "multiCounter.crsp_portno = multiCounter.crsp_portno.apply(lambda x: stats.mode(x)[0][0])\n",
    "multiCounter.crsp_portno = [i if i > 0 else np.nan for i in multiCounter.crsp_portno]"
   ]
  },
  {
   "cell_type": "markdown",
   "metadata": {
    "slideshow": {
     "slide_type": "subslide"
    }
   },
   "source": [
    "## Make changes to the dataframe"
   ]
  },
  {
   "cell_type": "code",
   "execution_count": null,
   "metadata": {
    "slideshow": {
     "slide_type": "fragment"
    }
   },
   "outputs": [],
   "source": [
    "if printing:\n",
    "    print(\"- making changes to fund_summary_ActiveEq... \")\n",
    "for i in range(multiCounter.shape[0]):\n",
    "    fund_summary_ActiveEq.loc[(fund_summary_ActiveEq.crsp_cl_grp == multiCounter.loc[i, 'crsp_cl_grp']) &\n",
    "                              (fund_summary_ActiveEq.caldt == multiCounter.loc[i, 'caldt']),\n",
    "                              'crsp_portno'] = multiCounter.loc[i, 'crsp_portno']\n",
    "if printing:\n",
    "    print(\"Multiple portnos taken care of!\")"
   ]
  },
  {
   "cell_type": "markdown",
   "metadata": {
    "slideshow": {
     "slide_type": "slide"
    }
   },
   "source": [
    "# Compare mtna (monthly TNA from return file) and tna_latest (quarterly)"
   ]
  },
  {
   "cell_type": "markdown",
   "metadata": {
    "slideshow": {
     "slide_type": "skip"
    }
   },
   "source": [
    "Note: the final distribution of tna_latest is checked as follows:\n",
    "\n",
    "fund_summary_ActiveEq.tna_latest.hist()\n",
    "\n",
    "fund_summary_ActiveEq.tna_latest.describe(percentiles=percentilesDetailPlus)\n",
    "\n",
    "b = fund_summary_ActiveEq[colList].sort_values(by=['tna_latest'], ascending=False)\n",
    "\n",
    "d = c[['caldt', 'fund_name_short', 'tna_latest']]"
   ]
  },
  {
   "cell_type": "markdown",
   "metadata": {
    "slideshow": {
     "slide_type": "subslide"
    }
   },
   "source": [
    "## Create data frame for comparision"
   ]
  },
  {
   "cell_type": "code",
   "execution_count": null,
   "metadata": {
    "slideshow": {
     "slide_type": "fragment"
    }
   },
   "outputs": [],
   "source": [
    "fund_tna = fund_summary_ActiveEq[['crsp_fundno', 'caldt', 'tna_latest']]\n",
    "fund_tna = fund_tna.rename(columns={'caldt': 'monthend'})\n",
    "df = monthly_return.reset_index()\n",
    "df = df.loc[df.monthend.apply(lambda x: x.month).isin([3, 6, 9, 12])]\n",
    "fund_tna = pd.merge(fund_tna, df, how='left', on=['crsp_fundno', 'monthend'])"
   ]
  },
  {
   "cell_type": "markdown",
   "metadata": {
    "slideshow": {
     "slide_type": "subslide"
    }
   },
   "source": [
    "## Cross filling"
   ]
  },
  {
   "cell_type": "code",
   "execution_count": null,
   "metadata": {
    "slideshow": {
     "slide_type": "fragment"
    }
   },
   "outputs": [],
   "source": [
    "# - Check how many observations would be impacted by cross-filling\n",
    "chk = fund_tna[(fund_tna.tna_latest.isnull() & ~fund_tna.mtna.isnull()) |\n",
    "               (~ fund_tna.tna_latest.isnull() & fund_tna.mtna.isnull())]\n",
    "if printing:\n",
    "    print('Cross-filling tna_latest and mtna for missing values')\n",
    "    print('- the number of observations impacted by cross-filling is:', len(chk))\n",
    "fund_tna.loc[fund_tna.tna_latest.isnull(), 'tna_latest'] = fund_tna.loc[fund_tna.tna_latest.isnull(), 'mtna']\n",
    "fund_tna.loc[fund_tna.mtna.isnull(), 'mtna'] = fund_tna.loc[fund_tna.mtna.isnull(), 'tna_latest']"
   ]
  },
  {
   "cell_type": "markdown",
   "metadata": {
    "slideshow": {
     "slide_type": "subslide"
    }
   },
   "source": [
    "## Create variables for comparision"
   ]
  },
  {
   "cell_type": "code",
   "execution_count": null,
   "metadata": {
    "slideshow": {
     "slide_type": "fragment"
    }
   },
   "outputs": [],
   "source": [
    "# Cross-checking for outliers & mistakes\n",
    "print('Cross-checking for outliers & mistakes')\n",
    "print('- creating variables for comparision')\n",
    "fund_tna['diff_rate'] = \\\n",
    "    [abs(fund_tna.mtna[i] - fund_tna.tna_latest[i])/max(fund_tna.mtna[i],\n",
    "                                                        fund_tna.tna_latest[i]) for i in range(fund_tna.shape[0])]\n",
    "fund_tna['diff_abs'] = fund_tna.mtna - fund_tna.tna_latest\n",
    "fund_tna['diff_abs'] = fund_tna['diff_abs'].apply(abs)\n",
    "fund_tna = fund_tna.sort_values(['crsp_fundno', 'monthend'])\n",
    "fund_tna['lag_mtna'] = fund_tna.groupby('crsp_fundno').mtna.shift(1)\n",
    "fund_tna['mtna_change_rate'] = fund_tna.mtna/fund_tna.lag_mtna - 1\n",
    "fund_tna['next_mtna_change_rate'] = fund_tna.groupby('crsp_fundno').mtna_change_rate.shift(-1)\n",
    "fund_tna['lag_tna_latest'] = fund_tna.groupby('crsp_fundno').tna_latest.shift(1)\n",
    "fund_tna['tna_latest_change_rate'] = fund_tna.tna_latest/fund_tna.lag_tna_latest - 1\n",
    "fund_tna['next_tna_latest_change_rate'] = fund_tna.groupby('crsp_fundno').tna_latest_change_rate.shift(-1)\n",
    "cols = ['mtna_change_rate', 'next_mtna_change_rate', 'tna_latest_change_rate', 'next_tna_latest_change_rate']\n",
    "fund_tna[cols] = fund_tna[cols].apply(abs)\n",
    "print('Comparison variables constructed!')"
   ]
  },
  {
   "cell_type": "code",
   "execution_count": null,
   "metadata": {
    "slideshow": {
     "slide_type": "subslide"
    }
   },
   "outputs": [],
   "source": [
    "print('- the description of the comparison variables is:')\n",
    "cols += ['diff_rate', 'diff_abs']\n",
    "fund_tna[cols].describe(percentiles=percDetail)"
   ]
  },
  {
   "cell_type": "markdown",
   "metadata": {
    "slideshow": {
     "slide_type": "subslide"
    }
   },
   "source": [
    "## Find crsp_fundno with mtna and tna_latest having more than 1% difference"
   ]
  },
  {
   "cell_type": "code",
   "execution_count": null,
   "metadata": {
    "slideshow": {
     "slide_type": "fragment"
    }
   },
   "outputs": [],
   "source": [
    "print('- finding crsp_fundno with mtna and tna_latest having more than 1% difference')\n",
    "fund_to_check = fund_tna.loc[fund_tna.diff_rate > 0.01].crsp_fundno.unique()\n",
    "print('Number of crsp_fundno with significantly different mtna and tna_latest:', len(fund_to_check))"
   ]
  },
  {
   "cell_type": "markdown",
   "metadata": {
    "slideshow": {
     "slide_type": "subslide"
    }
   },
   "source": [
    "## Handle large differences"
   ]
  },
  {
   "cell_type": "code",
   "execution_count": null,
   "metadata": {
    "slideshow": {
     "slide_type": "subslide"
    }
   },
   "outputs": [],
   "source": [
    "for fund in fund_to_check:\n",
    "    df = fund_tna.loc[fund_tna.crsp_fundno == fund]\n",
    "    if sum(df.diff_rate.dropna() > 0.01) == sum(df.diff_rate.dropna() > np.exp(-3)):\n",
    "        # For the case where most are the same but some are obviously different\n",
    "        fund_to_check = np.delete(fund_to_check, np.where(fund_to_check == fund))\n",
    "        fund_tna.loc[fund_tna.crsp_fundno == fund, 'tna_latest'] = fund_tna.loc[fund_tna.crsp_fundno == fund, 'mtna']\n",
    "    else:\n",
    "        # For those that have a continuous up and down\n",
    "        if np.all(df.loc[df.diff_rate > 0.01, ['tna_latest_change_rate', 'next_tna_latest_change_rate']] > 0.01):\n",
    "            fund_tna.loc[fund_tna.crsp_fundno == fund, 'tna_latest'] = \\\n",
    "                fund_tna.loc[fund_tna.crsp_fundno == fund, 'mtna']\n",
    "            fund_to_check = np.delete(fund_to_check, np.where(fund_to_check == fund))\n",
    "        elif np.all(df.loc[df.diff_rate > 0.01, ['mtna_change_rate', 'next_mtna_change_rate']] > 0.01):\n",
    "            fund_tna.loc[fund_tna.crsp_fundno == fund, 'mtna'] = fund_tna.loc[fund_tna.crsp_fundno == fund,\n",
    "                                                                              'tna_latest']\n",
    "            fund_to_check = np.delete(fund_to_check, np.where(fund_to_check == fund))\n",
    "        else:\n",
    "            if np.all(df.diff_abs.dropna() < 50):\n",
    "                # For the case where the max absolute difference is less than 50 millions\n",
    "                fund_to_check = np.delete(fund_to_check, np.where(fund_to_check == fund))\n",
    "                fund_tna.loc[fund_tna.crsp_fundno == fund, 'tna_latest'] = \\\n",
    "                    fund_tna.loc[fund_tna.crsp_fundno == fund, 'mtna']\n",
    "            else:\n",
    "                # the others\n",
    "                fund_tna.loc[(fund_tna.crsp_fundno.isin(fund_to_check)) &\n",
    "                             (fund_tna.diff_rate > 0.01), ['tna_latest', 'mtna']] = np.nan\n",
    "fund_tna = fund_tna[['crsp_fundno', 'monthend', 'tna_latest', 'mtna']]"
   ]
  },
  {
   "cell_type": "markdown",
   "metadata": {
    "slideshow": {
     "slide_type": "slide"
    }
   },
   "source": [
    "## Save to file"
   ]
  },
  {
   "cell_type": "code",
   "execution_count": null,
   "metadata": {
    "slideshow": {
     "slide_type": "fragment"
    }
   },
   "outputs": [],
   "source": [
    "fund_tna.to_csv(outputPath + Compared_TNA_name, index=False)\n",
    "print('Large differences were handled and the dataframe was saved to file!')"
   ]
  },
  {
   "cell_type": "markdown",
   "metadata": {
    "slideshow": {
     "slide_type": "slide"
    }
   },
   "source": [
    "## Modify tna-latest in fund_summary_ActiveEq"
   ]
  },
  {
   "cell_type": "code",
   "execution_count": null,
   "metadata": {
    "slideshow": {
     "slide_type": "fragment"
    }
   },
   "outputs": [],
   "source": [
    "print('- before the modification the distribution of tna_latest is:', \n",
    "      fund_summary_ActiveEq.tna_latest.describe())\n",
    "print('- before the modification the number of missing tna_latest is:', \n",
    "      fund_summary_ActiveEq[fund_summary_ActiveEq.tna_latest.isnull()].shape[0])"
   ]
  },
  {
   "cell_type": "code",
   "execution_count": null,
   "metadata": {
    "slideshow": {
     "slide_type": "subslide"
    }
   },
   "outputs": [],
   "source": [
    "print('Modifying tna_latest in fund_summary_ActiveEq...')\n",
    "fund_tna.rename(columns={'monthend': 'caldt'}, inplace=True)\n",
    "fund_summary_ActiveEq.drop(['tna_latest'], axis=1, inplace=True)\n",
    "fund_summary_ActiveEq = pd.merge(fund_summary_ActiveEq, fund_tna, how='left', on=['crsp_fundno', 'caldt'])\n",
    "print('Modification done!')"
   ]
  },
  {
   "cell_type": "code",
   "execution_count": null,
   "metadata": {
    "slideshow": {
     "slide_type": "subslide"
    }
   },
   "outputs": [],
   "source": [
    "print('- after the modification the distribution of tna_latest is:')\n",
    "print(fund_summary_ActiveEq.tna_latest.describe(percentiles=percDetail))\n",
    "print('- after the modification the number of missing tna_latest is:',\n",
    "      fund_summary_ActiveEq[fund_summary_ActiveEq.tna_latest.isnull()].shape[0])"
   ]
  },
  {
   "cell_type": "markdown",
   "metadata": {
    "slideshow": {
     "slide_type": "subslide"
    }
   },
   "source": [
    "## Remove observations with TNA < 5M\n"
   ]
  },
  {
   "cell_type": "code",
   "execution_count": null,
   "metadata": {
    "slideshow": {
     "slide_type": "fragment"
    }
   },
   "outputs": [],
   "source": [
    "fund_summary_ActiveEq = fund_summary_ActiveEq.loc[(fund_summary_ActiveEq['tna_latest'].isnull()) |\n",
    "                                                  (fund_summary_ActiveEq['tna_latest'] > 5)]\n",
    "print('- the final distribution of tna_latest is:')\n",
    "print(fund_summary_ActiveEq.tna_latest.describe(percentiles=percDetail))\n",
    "print('- the final number of missing tna_latest is:',\n",
    "      fund_summary_ActiveEq[fund_summary_ActiveEq.tna_latest.isnull()].shape[0])"
   ]
  },
  {
   "cell_type": "markdown",
   "metadata": {
    "slideshow": {
     "slide_type": "slide"
    }
   },
   "source": [
    "# Check variables mapping and distribution"
   ]
  },
  {
   "cell_type": "markdown",
   "metadata": {
    "slideshow": {
     "slide_type": "subslide"
    }
   },
   "source": [
    "## Check wficn crsp_cl_grp mapping"
   ]
  },
  {
   "cell_type": "code",
   "execution_count": null,
   "metadata": {
    "slideshow": {
     "slide_type": "fragment"
    }
   },
   "outputs": [],
   "source": [
    "a = fund_summary_ActiveEq.groupby('crsp_cl_grp')['wficn'].nunique().reset_index()\n",
    "a = a[a.wficn > 1].shape[0]\n",
    "print('The number of instances in which a crsp_cl_grp is associated with more than one wficn is:', a)"
   ]
  },
  {
   "cell_type": "code",
   "execution_count": null,
   "metadata": {
    "slideshow": {
     "slide_type": "subslide"
    }
   },
   "outputs": [],
   "source": [
    "aa = fund_summary_ActiveEq.groupby(['crsp_cl_grp', 'caldt'])['wficn'].nunique().reset_index()\n",
    "a1 = aa[aa.caldt < dt.datetime(2008, 9, 1)]\n",
    "a1 = a1.wficn.value_counts()\n",
    "a2 = aa[aa.caldt >= dt.datetime(2008, 9, 1)]\n",
    "a2 = a2.wficn.value_counts()\n",
    "print('The frequency of the number of wficn per crsp_cl_grp-caldt before September 2008 is:')\n",
    "print(a1)\n",
    "print('The frequency of the number of wficn per crsp_cl_grp-caldt from September 2008 is:')\n",
    "print(a2)"
   ]
  },
  {
   "cell_type": "code",
   "execution_count": null,
   "metadata": {
    "slideshow": {
     "slide_type": "subslide"
    }
   },
   "outputs": [],
   "source": [
    "f = fund_summary_ActiveEq[\n",
    "    (~fund_summary_ActiveEq.crsp_cl_grp.isnull()) & ~fund_summary_ActiveEq.crsp_portno.isnull()]\n",
    "f = f.groupby(['wficn', 'caldt'])['crsp_cl_grp'].nunique().reset_index()\n",
    "f = f[f.crsp_cl_grp > 1]\n",
    "print('The number of times times in which a wficn is associated to multiple crsp_cl_grp in the same date is:',\n",
    "      f.shape[0])"
   ]
  },
  {
   "cell_type": "markdown",
   "metadata": {
    "slideshow": {
     "slide_type": "subslide"
    }
   },
   "source": [
    "## Check crsp_cl_grp portno mapping"
   ]
  },
  {
   "cell_type": "code",
   "execution_count": null,
   "metadata": {
    "slideshow": {
     "slide_type": "fragment"
    }
   },
   "outputs": [],
   "source": [
    "b = fund_summary_ActiveEq.groupby(['crsp_cl_grp', 'caldt'])['crsp_portno'].nunique().reset_index()\n",
    "b1 = b[b.caldt < dt.datetime(2008, 9, 1)]\n",
    "b1 = b1.crsp_portno.value_counts()\n",
    "b2 = b[b.caldt >= dt.datetime(2008, 9, 1)]\n",
    "b2 = b2.crsp_portno.value_counts()\n",
    "print('The frequency of the number of crsp_portno per crsp_cl_grp-caldt before September 2008 is:')\n",
    "print(b1)\n",
    "print('The frequency of the number of crsp_portno per crsp_cl_grp-caldt from September 2008 is:')\n",
    "print(b2)"
   ]
  },
  {
   "cell_type": "code",
   "execution_count": null,
   "metadata": {
    "slideshow": {
     "slide_type": "subslide"
    }
   },
   "outputs": [],
   "source": [
    "d = fund_summary_ActiveEq[(~fund_summary_ActiveEq.crsp_cl_grp.isnull()) & ~fund_summary_ActiveEq.crsp_portno.isnull()]\n",
    "d = d.groupby(['crsp_portno', 'caldt'])['crsp_cl_grp'].nunique().reset_index()\n",
    "d = d[d.crsp_cl_grp > 1]\n",
    "print('The number of times times in which a portno is associated to multiple crsp_cl_grp in the same date is:',\n",
    "      d.shape[0])\n",
    "print('The frequency of the number of associated crsp_cl_grp in this subsample is:')\n",
    "print(d.crsp_cl_grp.value_counts())\n",
    "print('NB! THIS NUMBER SHOULD HAVE BEEN ZERO!')"
   ]
  },
  {
   "cell_type": "markdown",
   "metadata": {
    "slideshow": {
     "slide_type": "subslide"
    }
   },
   "source": [
    "## Check crsp_cl_grp fundno mapping"
   ]
  },
  {
   "cell_type": "code",
   "execution_count": null,
   "metadata": {
    "slideshow": {
     "slide_type": "fragment"
    }
   },
   "outputs": [],
   "source": [
    "c = fund_summary_ActiveEq.groupby(['crsp_cl_grp', 'caldt'])['crsp_fundno'].nunique().reset_index()\n",
    "c = c.crsp_fundno.value_counts()\n",
    "print('The frequency of the number of crsp_fundno per crsp_cl_grp-caldt is:')\n",
    "print(c)"
   ]
  },
  {
   "cell_type": "code",
   "execution_count": null,
   "metadata": {
    "slideshow": {
     "slide_type": "subslide"
    }
   },
   "outputs": [],
   "source": [
    "e = fund_summary_ActiveEq[(~fund_summary_ActiveEq.crsp_cl_grp.isnull()) & ~fund_summary_ActiveEq.crsp_portno.isnull()]\n",
    "e = e.groupby(['crsp_fundno', 'caldt'])['crsp_cl_grp'].nunique().reset_index()\n",
    "e = e[e.crsp_cl_grp > 1]\n",
    "print('The number of times times in which a fundno is associated to multiple crsp_cl_grp in the same date is:',\n",
    "      e.shape[0])"
   ]
  },
  {
   "cell_type": "markdown",
   "metadata": {
    "slideshow": {
     "slide_type": "slide"
    }
   },
   "source": [
    "# Aggregate information of different share classes of the same fund for the same month into a unique observation"
   ]
  },
  {
   "cell_type": "markdown",
   "metadata": {
    "slideshow": {
     "slide_type": "subslide"
    }
   },
   "source": [
    "##  For variables that are unique across funds of the same group but vary over time:\n",
    "        - adv_name mgmt_name mgr_dt mgr_name fund_name NASDAQ wficn crsp_obj_cd lipper_obj_cd"
   ]
  },
  {
   "cell_type": "code",
   "execution_count": null,
   "metadata": {
    "slideshow": {
     "slide_type": "subslide"
    }
   },
   "outputs": [],
   "source": [
    "# Fix Typos\n",
    "for typo in Typos:\n",
    "    fund_summary_ActiveEq.loc[(fund_summary_ActiveEq['crsp_cl_grp'] == typo['crsp_cl_grp']) &\n",
    "                              (fund_summary_ActiveEq['caldt'] == typo['caldt']), 'mgr_name'] = \\\n",
    "        typo['Correct Mgr_name']"
   ]
  },
  {
   "cell_type": "code",
   "execution_count": null,
   "metadata": {
    "slideshow": {
     "slide_type": "subslide"
    }
   },
   "outputs": [],
   "source": [
    "# Check uniqueness of variables per group/monthend:\n",
    "for feature in features:\n",
    "    df = fund_summary_ActiveEq.loc[(fund_summary_ActiveEq[feature].notnull()), ]\n",
    "    df = df.groupby(['crsp_cl_grp', 'caldt'])[feature].nunique()\n",
    "    if printing:\n",
    "        print('Number of observations having multiple', feature, ':', sum(df > 1))\n",
    "# Save all exceptions in files\n",
    "for feature in features:\n",
    "    Util.exceptions_tofile(fund_summary_ActiveEq, feature, outputPath)"
   ]
  },
  {
   "cell_type": "code",
   "execution_count": null,
   "metadata": {
    "slideshow": {
     "slide_type": "subslide"
    }
   },
   "outputs": [],
   "source": [
    "# Use the mode for the multi-value case\n",
    "agg_fund_summary = \\\n",
    "    fund_summary_ActiveEq.groupby(['crsp_cl_grp', 'caldt'])[features].agg(Util.mode_with_NA).reset_index()"
   ]
  },
  {
   "cell_type": "code",
   "execution_count": null,
   "metadata": {
    "slideshow": {
     "slide_type": "subslide"
    }
   },
   "outputs": [],
   "source": [
    "# Use the oldest mgr_dt for the multi-value case\n",
    "agg_fund_summary.mgr_dt = \\\n",
    "    fund_summary_ActiveEq.groupby(['crsp_cl_grp',\n",
    "                                   'caldt'])['mgr_dt'].apply(lambda x: x.dropna().min()).reset_index(drop=True)\n",
    "print('Aggregation complete.')"
   ]
  },
  {
   "cell_type": "markdown",
   "metadata": {
    "slideshow": {
     "slide_type": "slide"
    }
   },
   "source": [
    "## Sum TNA of all CRSP_FUNDNO with the same CRSP_CL_GRP and CALDT (variable: TNA_LATEST)"
   ]
  },
  {
   "cell_type": "markdown",
   "metadata": {
    "slideshow": {
     "slide_type": "skip"
    }
   },
   "source": [
    "Note: the final distribution of the aggregated tna_latest variable is checked as follows:\n",
    "    \n",
    "    agg_fund_summary.tna_latest.hist()\n",
    "    \n",
    "    agg_fund_summary.tna_latest.describe(percentiles=percentilesDetailPlus)\n",
    "    \n",
    "    b = agg_fund_summary[['caldt', 'fund_name_short', 'tna_latest']].sort_values(by=['tna_latest'], ascending=False)\n"
   ]
  },
  {
   "cell_type": "code",
   "execution_count": null,
   "metadata": {
    "slideshow": {
     "slide_type": "subslide"
    }
   },
   "outputs": [],
   "source": [
    "print('Aggregating TNA information by summing it across funds per group/date...')\n",
    "# Check the status of missing TNA\n",
    "tnamiss_grp = list(fund_summary_ActiveEq.loc[fund_summary_ActiveEq['tna_latest'].isnull()]['crsp_cl_grp'])\n",
    "tnamiss_grp = list(set(tnamiss_grp))\n",
    "# Delete nan\n",
    "tnamiss_grp = [x for x in tnamiss_grp if x == x]\n",
    "print('Number of crsp_cl_grp having miss TNA: ', len(tnamiss_grp))\n",
    "num_total_missing = 0\n",
    "num_partial_missing = 0\n",
    "tna_miss = []\n",
    "for grp in tnamiss_grp:\n",
    "    df = fund_summary_ActiveEq.loc[fund_summary_ActiveEq.crsp_cl_grp == grp]\n",
    "    df2 = df.groupby('caldt')['fund_name_short', 'tna_latest'].count()\n",
    "    df2 = df2.query('fund_name_short != tna_latest')\n",
    "    for i in range(df2.shape[0]):\n",
    "        month = df2.index[i]\n",
    "        if df2.iloc[i]['tna_latest'] == 0:\n",
    "            tna_miss.append((grp, month, 'all missing', 1))\n",
    "            num_total_missing += 1\n",
    "        else:\n",
    "            if df2.iloc[i]['fund_name_short'] != 0:\n",
    "                tna_miss.append(\n",
    "                    (grp, month, 'partially missing', 1 - df2.iloc[i]['tna_latest'] / df2.iloc[i]['fund_name_short']))\n",
    "                num_partial_missing += 1\n",
    "tna_miss = pd.DataFrame(tna_miss, columns=['CRSP_CL_GRP', 'MONTHEND', 'TNA_MISSING STATUS', 'MISSING RATE'])"
   ]
  },
  {
   "cell_type": "code",
   "execution_count": null,
   "metadata": {
    "slideshow": {
     "slide_type": "subslide"
    }
   },
   "outputs": [],
   "source": [
    "print('Number of crsp_cl_grp/monthend observations missing TNA for all funds: ', num_total_missing)\n",
    "print('Number of crsp_cl_grp/monthend observations missing TNA for some funds: ', num_partial_missing)\n",
    "print('Average of TNA missing rate: ',\n",
    "      np.mean(tna_miss.loc[tna_miss['TNA_MISSING STATUS'] == 'partially missing', 'MISSING RATE']))\n",
    "print('Variance of TNA missing rate: ',\n",
    "      np.var(tna_miss.loc[tna_miss['TNA_MISSING STATUS'] == 'partially missing', 'MISSING RATE']))\n",
    "# Sum TNA of all CRSP_FUNDNO with the same CRSP_CL_GRP and CALDT\n",
    "agg_fund_summary['tna_latest'] = \\\n",
    "            fund_summary_ActiveEq.groupby(['crsp_cl_grp',\n",
    "                                           'caldt'])['tna_latest'].sum(min_count=1).reset_index(drop=True)\n",
    "# agg_fund_summary.tna_latest = agg_fund_summary.tna_latest.apply(lambda x: np.nan if x == 0 else x)\n",
    "print('Aggregation complete!')"
   ]
  },
  {
   "cell_type": "code",
   "execution_count": null,
   "metadata": {},
   "outputs": [],
   "source": [
    "print('The distribution of the aggregated tna_latest is:')\n",
    "print(agg_fund_summary.tna_latest.describe(percentiles=percDetail))\n",
    "print('The shape of agg_fund_summary after dealing with tna_latest is: ')\n",
    "print(str(agg_fund_summary.shape))"
   ]
  },
  {
   "cell_type": "markdown",
   "metadata": {
    "slideshow": {
     "slide_type": "slide"
    }
   },
   "source": [
    "## Use the oldest fund for qualitative information and fill if forward for all months\n",
    "       – Variables: Fund_name, FIRST_OFFER_DT"
   ]
  },
  {
   "cell_type": "code",
   "execution_count": null,
   "metadata": {
    "slideshow": {
     "slide_type": "subslide"
    }
   },
   "outputs": [],
   "source": [
    "group_oldest_info = fund_summary_ActiveEq.groupby('crsp_cl_grp')['first_offer_dt'].min().reset_index()\n",
    "group_oldest_info = \\\n",
    "            pd.merge(group_oldest_info, fund_summary_ActiveEq[['crsp_cl_grp', 'first_offer_dt', 'fund_name_short']],\n",
    "                     how='left', on=['crsp_cl_grp', 'first_offer_dt']).drop_duplicates(['crsp_cl_grp',\n",
    "                                                                                        'first_offer_dt'])\n",
    "group_oldest_info.rename(columns={'fund_name_short': 'fund_name_first_offer'}, inplace=True)\n",
    "agg_fund_summary = pd.merge(agg_fund_summary, group_oldest_info, how='left', on='crsp_cl_grp')\n",
    "print('Aggregation complete.')\n",
    "print('The shape of agg_fund_summary after adding the oldest qualitative info is: ')\n",
    "print(str(agg_fund_summary.shape))"
   ]
  },
  {
   "cell_type": "markdown",
   "metadata": {
    "slideshow": {
     "slide_type": "slide"
    }
   },
   "source": [
    "## Compute the weighted average of numerical variables using the one month lag of TNA_LATEST as weights\n",
    "       (note that we compare caldt to tna_latest to determine if tna_latest is already a stale - lagged value):\n",
    "        - Variables: per_cash per_com per_pref per_conv per_corp per_muni per_govt per_oth per_cash per_bond \n",
    "                     per_abs per_mbs per_eq_oth per_fi_oth exp_ratio turn_ratio FRONT_LOAD Rear_load Load AvEq \n",
    "                     mgmt_fee ACTUAL_12B1\n",
    "        - Where TNA is available for all CRSP_CL_GRP in a given CALDT, then the normalized TNA weight is used.\n",
    "          When TNA is missing then equal weights are used; If TNA is missing for some but not all funds still use\n",
    "          equal weights. Keep track of the number of the exceptions and save them in a separate file\n",
    "        - The same procedure is later applied to monthly returns (see returns.py)"
   ]
  },
  {
   "cell_type": "code",
   "execution_count": null,
   "metadata": {
    "slideshow": {
     "slide_type": "subslide"
    }
   },
   "outputs": [],
   "source": [
    "print('Computing the weighted average of numerical variables using lagged TNA...')\n",
    "# Create weighted variables using tna_latest\n",
    "weighted_averages = \\\n",
    "            fund_summary_ActiveEq.groupby(['crsp_cl_grp',\n",
    "                                           'caldt']).apply(Util.weighted_mean, wtMeanList, w=\"tna_latest\")\n",
    "agg_fund_summary = pd.concat([agg_fund_summary, weighted_averages.reset_index(drop=True)], axis=1)\n",
    "# Create tna_adjust\n",
    "fund_summary_ActiveEq = fund_summary_ActiveEq.sort_values(['crsp_fundno', 'caldt'])\n",
    "fund_summary_ActiveEq['tna_adjust'] = fund_summary_ActiveEq.groupby(['crsp_fundno'])['tna_latest'].shift(1)\n",
    "fund_summary_ActiveEq.loc[fund_summary_ActiveEq.tna_latest_dt < fund_summary_ActiveEq.caldt, 'tna_adjust'] = \\\n",
    "            fund_summary_ActiveEq.loc[fund_summary_ActiveEq.tna_latest_dt < fund_summary_ActiveEq.caldt, 'tna_latest']\n",
    "df = fund_summary_ActiveEq.groupby('crsp_fundno')[['caldt', 'tna_latest']].first().reset_index()\n",
    "for i in range(df.shape[0]):\n",
    "    fund_summary_ActiveEq.loc[(fund_summary_ActiveEq.crsp_fundno == df['crsp_fundno'][i]) &\n",
    "                              (fund_summary_ActiveEq.caldt == df['caldt'][i]), 'tna_adjust'] = df['tna_latest'][i]\n",
    "# Create weighted variables using tna_adjust\n",
    "weighted_averages_adj = \\\n",
    "            fund_summary_ActiveEq.groupby(['crsp_cl_grp',\n",
    "                                           'caldt']).apply(Util.weighted_mean, wtMeanList, w='tna_adjust')\n",
    "weighted_averages_adj.columns = [x + '_adj' for x in weighted_averages_adj.columns]\n",
    "agg_fund_summary = pd.concat([agg_fund_summary, weighted_averages_adj.reset_index(drop=True)], axis=1)\n",
    "print('Aggregation complete!')\n",
    "print('The shape of agg_fund_summary after adding the tna_weighted variables is: ')\n",
    "print(str(agg_fund_summary.shape))"
   ]
  },
  {
   "cell_type": "markdown",
   "metadata": {
    "slideshow": {
     "slide_type": "slide"
    }
   },
   "source": [
    "## For what regards CRSP_PORTNO there should be a unique PORTNO per CRSP_CL_GRP and monthend\n",
    "- Keep the PORTNO for as many months as possible (fill missing value using neighbors)\n",
    "- Also explored in the homework\n"
   ]
  },
  {
   "cell_type": "markdown",
   "metadata": {
    "slideshow": {
     "slide_type": "slide"
    }
   },
   "source": [
    "# Dataset Summary"
   ]
  },
  {
   "cell_type": "code",
   "execution_count": null,
   "metadata": {
    "slideshow": {
     "slide_type": "subslide"
    }
   },
   "outputs": [],
   "source": [
    "if printing:\n",
    "    print('-------------------------------------------------')\n",
    "    print('The final aggregated dataset has the following characteristics:')\n",
    "# Frequency of categorical variables\n",
    "categorical_variables = ['crsp_obj_cd', 'lipper_obj_cd']\n",
    "if printing:\n",
    "    for col in categorical_variables:\n",
    "        print('Frequency of', col, 'in fund_summary_US_Active:')\n",
    "        print(agg_fund_summary[col].value_counts())\n",
    "        print(agg_fund_summary.drop_duplicates('crsp_cl_grp')[col].value_counts())\n",
    "print('The number of unique crsp_cl_grp is: ', agg_fund_summary.crsp_cl_grp.nunique())\n"
   ]
  },
  {
   "cell_type": "markdown",
   "metadata": {
    "slideshow": {
     "slide_type": "slide"
    }
   },
   "source": [
    "# Save Aggregate_fund_summary to file"
   ]
  },
  {
   "cell_type": "code",
   "execution_count": null,
   "metadata": {
    "slideshow": {
     "slide_type": "subslide"
    }
   },
   "outputs": [],
   "source": [
    "if printing:\n",
    "    print('-------------------------------------------------')\n",
    "    print(\"Saving the full and aggregated datasets to file...\")\n",
    "agg_fund_summary.to_csv(outputPath + fund_summary_agg_ActiveEq_name, index=False)\n",
    "fund_summary_ActiveEq.to_csv(outputPath + fund_summary_ActiveEq_name, index=False)\n"
   ]
  }
 ],
 "metadata": {
  "celltoolbar": "Slideshow",
  "kernelspec": {
   "display_name": "Python 3",
   "language": "python",
   "name": "python3"
  },
  "language_info": {
   "codemirror_mode": {
    "name": "ipython",
    "version": 3
   },
   "file_extension": ".py",
   "mimetype": "text/x-python",
   "name": "python",
   "nbconvert_exporter": "python",
   "pygments_lexer": "ipython3",
   "version": "3.6.6"
  },
  "toc": {
   "base_numbering": 1,
   "nav_menu": {},
   "number_sections": true,
   "sideBar": true,
   "skip_h1_title": false,
   "title_cell": "Table of Contents",
   "title_sidebar": "Contents",
   "toc_cell": false,
   "toc_position": {
    "height": "calc(100% - 180px)",
    "left": "10px",
    "top": "150px",
    "width": "203px"
   },
   "toc_section_display": true,
   "toc_window_display": true
  }
 },
 "nbformat": 4,
 "nbformat_minor": 2
}
