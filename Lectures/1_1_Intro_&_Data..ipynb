{
 "cells": [
  {
   "cell_type": "markdown",
   "metadata": {
    "pycharm": {},
    "slideshow": {
     "slide_type": "slide"
    }
   },
   "source": [
    "# Big Data in Finance\n",
    "## Understanding Mutual Fund Data\n",
    "### Instructor :\n",
    "Simona Abis, simona.abis@gsb.columbia.edu"
   ]
  },
  {
   "cell_type": "markdown",
   "metadata": {
    "slideshow": {
     "slide_type": "slide"
    }
   },
   "source": [
    "# Module Objectives\n",
    "## Lecture 1:\n",
    "1. Download data and understand data structure\n",
    "2. Clean the main data file and sub-set it to identify balanced, US active equity funds \n",
    "    - **(ID: {sub-fund, quarter})**\n",
    "3. Aggregate the information in the identified sub-set by share classes \n",
    "    - **(ID: FROM {sub-fund, quarter} TO {fund, quarter})**"
   ]
  },
  {
   "cell_type": "markdown",
   "metadata": {
    "slideshow": {
     "slide_type": "subslide"
    }
   },
   "source": [
    "## Homework 1:\n",
    "1. Think through ID mapping to ensure greatest possible data coverage \n",
    "    - crsp_fundno = sub-fund (share classes)\n",
    "    - crsp_cl_grp = fund (unit of interest) \n",
    "    - crsp_portno = portfolio identifier (CRSP) \n",
    "    - wficn = portfolio identifier (Thomson Reuters)\n",
    "2. Create and forward fill a map derived from the obtained aggregate file to be used in sub-setting monthly returns & holdings information \n",
    "    - **(ID: {fund, month})**"
   ]
  },
  {
   "cell_type": "markdown",
   "metadata": {
    "slideshow": {
     "slide_type": "subslide"
    }
   },
   "source": [
    "## Lecture 2: \n",
    "Utilizing the map developed in the homework\n",
    "1. Sub-set, clean and aggregate monthly returns\n",
    "    - **(ID: FROM {sub-fund, month} TO {fund, month})**\n",
    "2. Clean, sub-set and complement holdings data to retrieve comprehensive holdings information \n",
    "    - **(ID: FROM {portfolio, date} TO {fund date})**"
   ]
  },
  {
   "cell_type": "markdown",
   "metadata": {
    "slideshow": {
     "slide_type": "subslide"
    }
   },
   "source": [
    "\n",
    "## Homework 2:\n",
    "1. Generate holdings & returns based performance measures\n",
    "    - **(ID: fund, month)**\n",
    "2. Aggregate all information into a monthly panel dataset \n",
    "    - **(ID: fund, month)**"
   ]
  },
  {
   "cell_type": "markdown",
   "metadata": {
    "slideshow": {
     "slide_type": "slide"
    }
   },
   "source": [
    "# Lecture 1.1\n",
    "# Download & Understand the data"
   ]
  },
  {
   "cell_type": "markdown",
   "metadata": {
    "slideshow": {
     "slide_type": "slide"
    }
   },
   "source": [
    "## Database information:\n",
    "- Download CRSP Mutual fund guide at: http://www.crsp.com/files/MFDB_Guide.pdf \n",
    "- Check online data guide at: http://www.crsp.com/products/research-products/crsp-survivor-bias-free-us-mutual-funds"
   ]
  },
  {
   "cell_type": "markdown",
   "metadata": {
    "slideshow": {
     "slide_type": "slide"
    }
   },
   "source": [
    "## Download datasets from CRSP via WRDS Python API\n",
    "- WRDS: Querying with Python (Passing SQL Params) : https://wrds-www.wharton.upenn.edu/pages/support/programming-wrds/programming-python/querying-wrds-data-python/\n",
    "- All table/variable names are available on: https://wrds-web.wharton.upenn.edu/wrds/tools/variable.cfm?vendor_id=10"
   ]
  },
  {
   "cell_type": "markdown",
   "metadata": {
    "slideshow": {
     "slide_type": "subslide"
    }
   },
   "source": [
    "## Import Settings"
   ]
  },
  {
   "cell_type": "markdown",
   "metadata": {
    "slideshow": {
     "slide_type": "fragment"
    }
   },
   "source": [
    "### Adjust paths in 'settings.py' to reflect local machine\n",
    "- Open the settings.py file found in the head directory\n",
    "- Change the 'user' and 'basepath' variables to reflect where you would like to store files in your local machine\n",
    "- The code will create 'Input' and output ('dbcourse_output') folders in the chosen directory\n",
    "    - Raw data from CRSP will be saved in the input folder through the WRDS python API\n",
    "    - Intermediate outputs will be saved in the output folder"
   ]
  },
  {
   "cell_type": "markdown",
   "metadata": {
    "slideshow": {
     "slide_type": "subslide"
    }
   },
   "source": [
    "### Load settings and other needed packages"
   ]
  },
  {
   "cell_type": "code",
   "execution_count": null,
   "metadata": {
    "pycharm": {},
    "slideshow": {
     "slide_type": "fragment"
    }
   },
   "outputs": [],
   "source": [
    "import os\n",
    "import sys\n",
    "module_path = os.path.abspath(os.path.join(\"..\"))\n",
    "if module_path not in sys.path:\n",
    "    sys.path.append(module_path)\n",
    "from Functions import Utilis as Util\n",
    "from settings import *"
   ]
  },
  {
   "cell_type": "markdown",
   "metadata": {
    "pycharm": {},
    "slideshow": {
     "slide_type": "slide"
    }
   },
   "source": [
    "# Import & Save datasets"
   ]
  },
  {
   "cell_type": "markdown",
   "metadata": {
    "slideshow": {
     "slide_type": "fragment"
    }
   },
   "source": [
    "## Initialize database connection"
   ]
  },
  {
   "cell_type": "code",
   "execution_count": null,
   "metadata": {
    "pycharm": {},
    "slideshow": {
     "slide_type": "fragment"
    }
   },
   "outputs": [],
   "source": [
    "# Make sure you set up your wrds connection first (see head directory: wrds_setup.py)\n",
    "db = wrds.Connection(wrds_username='sa3518')"
   ]
  },
  {
   "cell_type": "markdown",
   "metadata": {
    "slideshow": {
     "slide_type": "slide"
    }
   },
   "source": [
    "## Datasets needed for Lecture 1"
   ]
  },
  {
   "cell_type": "markdown",
   "metadata": {
    "pycharm": {},
    "slideshow": {
     "slide_type": "subslide"
    }
   },
   "source": [
    "### get 'fund_summary_full.csv', (03/2008 - 06/2010)"
   ]
  },
  {
   "cell_type": "code",
   "execution_count": null,
   "metadata": {
    "pycharm": {},
    "slideshow": {
     "slide_type": "fragment"
    }
   },
   "outputs": [],
   "source": [
    "exists = os.path.isfile(inputPath + 'fund_summary_full.csv')\n",
    "if exists:\n",
    "    t0 = time.time()\n",
    "    print('File already exists locally, loading file...')\n",
    "    df = pd.read_csv(inputPath + fund_summary_name, low_memory=False)\n",
    "    t1 = time.time()\n",
    "    print('File loaded successfully in', t1-t0, 's')\n",
    "else:\n",
    "    print('Downloading fund_summary_full...')\n",
    "    t0 = time.time()\n",
    "    df_fund_summary_query = \"SELECT * FROM crspq.fund_summary2 WHERE (caldt BETWEEN '2008-03-01' AND '2010-07-01')\"\n",
    "    df = db.raw_sql(df_fund_summary_query)\n",
    "    df.to_csv(inputPath + \"fund_summary_full.csv\", index=False)\n",
    "    t1 = time.time()\n",
    "    print(\"Downloaded fund_summary_full Successfully in\", t1-t0, 's')"
   ]
  },
  {
   "cell_type": "markdown",
   "metadata": {
    "slideshow": {
     "slide_type": "subslide"
    }
   },
   "source": [
    "#### fund_summary_full: Dataset Description\n",
    "- Key variables: CRSP_FUNDNO, CALDT\n",
    "    - CRSP_FUNDNO: Identifies sub-funds at the share class level\n",
    "    - CALDT: Calendar date at quarter end\n",
    "- Contains the main descriptive info about funds as well as TNA, expense ratio and turnover rate"
   ]
  },
  {
   "cell_type": "code",
   "execution_count": null,
   "metadata": {
    "slideshow": {
     "slide_type": "subslide"
    }
   },
   "outputs": [],
   "source": [
    "print('The shape of the dataset is:', df.shape)\n",
    "print('The number of unique crsp_fundno is:', df.crsp_fundno.nunique())\n",
    "print('The number of unique crsp_cl_grp is:', df.crsp_cl_grp.nunique())\n",
    "print('The average number of crsp_fundno per crsp_cl_grp per date:', \n",
    "      df.groupby(['crsp_cl_grp', 'caldt'])['crsp_fundno'].nunique().mean())\n",
    "print('The average number of crsp_fundno per crsp_cl_grp over time:', \n",
    "      df.groupby(['crsp_cl_grp'])['crsp_fundno'].nunique().mean())\n",
    "df.head(4)"
   ]
  },
  {
   "cell_type": "markdown",
   "metadata": {
    "pycharm": {},
    "slideshow": {
     "slide_type": "subslide"
    }
   },
   "source": [
    "### get 'FrontLoads.csv', (year: full available)"
   ]
  },
  {
   "cell_type": "code",
   "execution_count": null,
   "metadata": {
    "pycharm": {},
    "slideshow": {
     "slide_type": "fragment"
    }
   },
   "outputs": [],
   "source": [
    "exists = os.path.isfile(inputPath + 'FrontLoads.csv')\n",
    "if exists:\n",
    "    t0 = time.time()\n",
    "    print('File already exists locally, loading file...')\n",
    "    df = pd.read_csv(inputPath + FRONT_LOAD_name, low_memory=False)\n",
    "    t1 = time.time()\n",
    "    print('File loaded successfully in', t1-t0, 's')\n",
    "else:\n",
    "    print('Downloading FrontLoads...')\n",
    "    t0 = time.time()\n",
    "    df = db.get_table(library='crspq', table='front_load')\n",
    "    df.to_csv(inputPath + \"FrontLoads.csv\", index=False)\n",
    "    t1 = time.time()\n",
    "    print('Downloaded FrontLoads Successfully in', t1-t0, 's')"
   ]
  },
  {
   "cell_type": "markdown",
   "metadata": {
    "slideshow": {
     "slide_type": "subslide"
    }
   },
   "source": [
    "#### FrontLoads: Dataset Description\n",
    "- Key variables: CRSP_FUNDNO, begdt, enddt\n",
    "    - CRSP_FUNDNO: Identifies sub-funds at the share class level\n",
    "    - begdt: beginning date for which observations are relevant\n",
    "    - enddt: end date for which observations are relevant\n",
    "- Contains information about front loads (a type of fee)"
   ]
  },
  {
   "cell_type": "code",
   "execution_count": null,
   "metadata": {
    "slideshow": {
     "slide_type": "fragment"
    }
   },
   "outputs": [],
   "source": [
    "print('The shape of the dataset is:', df.shape)\n",
    "df.head(4)"
   ]
  },
  {
   "cell_type": "markdown",
   "metadata": {
    "pycharm": {},
    "slideshow": {
     "slide_type": "subslide"
    }
   },
   "source": [
    "### get 'RearLoads.csv', (year: full available)"
   ]
  },
  {
   "cell_type": "code",
   "execution_count": null,
   "metadata": {
    "pycharm": {},
    "slideshow": {
     "slide_type": "fragment"
    }
   },
   "outputs": [],
   "source": [
    "exists = os.path.isfile(inputPath + 'RearLoads.csv')\n",
    "if exists:\n",
    "    t0 = time.time()\n",
    "    print('File already exists locally, loading file...')\n",
    "    df = pd.read_csv(inputPath + REAR_LOAD_name, low_memory=False)\n",
    "    t1 = time.time()\n",
    "    print('File loaded successfully in', t1-t0, 's')\n",
    "else:\n",
    "    print('Downloading RearLoads')\n",
    "    t0 = time.time()\n",
    "    df = db.get_table(library='crspq', table='rear_load')\n",
    "    df.to_csv(inputPath + \"RearLoads.csv\", index=False)\n",
    "    t1 = time.time()\n",
    "    print('Downloaded Rear Loads Successfully in', t1-t0, 's')"
   ]
  },
  {
   "cell_type": "markdown",
   "metadata": {
    "slideshow": {
     "slide_type": "subslide"
    }
   },
   "source": [
    "#### RearLoads: Dataset Description\n",
    "- Key variables: CRSP_FUNDNO, begdt, enddt\n",
    "- Contains read loads (a type of fee). \n",
    "    - These will have to be integrated with front loads to calculate total loads"
   ]
  },
  {
   "cell_type": "code",
   "execution_count": null,
   "metadata": {
    "slideshow": {
     "slide_type": "fragment"
    }
   },
   "outputs": [],
   "source": [
    "print('The shape of the dataset is:', df.shape)\n",
    "df.head(4)"
   ]
  },
  {
   "cell_type": "markdown",
   "metadata": {
    "pycharm": {},
    "slideshow": {
     "slide_type": "subslide"
    }
   },
   "source": [
    "### get 'Map_fundno_portno.csv', (year: full available)"
   ]
  },
  {
   "cell_type": "code",
   "execution_count": null,
   "metadata": {
    "pycharm": {},
    "slideshow": {
     "slide_type": "fragment"
    }
   },
   "outputs": [],
   "source": [
    "exists = os.path.isfile(inputPath + 'Map_fundno_portno.csv')\n",
    "if exists:\n",
    "    t0 = time.time()\n",
    "    print('File already exists locally, loading file...')\n",
    "    df = pd.read_csv(inputPath + map_fundno_portno_name, low_memory=False)\n",
    "    t1 = time.time()\n",
    "    print('File loaded successfully in', t1-t0, 's')\n",
    "else:\n",
    "    print('Downloading Map_fundno_portno')\n",
    "    t0 = time.time()\n",
    "    df = db.get_table(library='crspq', table='portnomap')\n",
    "    df.to_csv(inputPath + \"Map_fundno_portno.csv\", index=False)\n",
    "    t1 = time.time()\n",
    "    print(\"Downloaded Map_fundno_portno Successfully in\", t1-t0, 's')"
   ]
  },
  {
   "cell_type": "markdown",
   "metadata": {
    "slideshow": {
     "slide_type": "subslide"
    }
   },
   "source": [
    "#### Map_fundno_portno: Dataset Description\n",
    "- **Key variables**: *CRSP_FUNDNO, begdt, enddt*\n",
    "- Maps *CRSP_FUNDNO* to *CRSP_PORTNO* (the CRSP portfolio identifier)\n",
    "    - The mapping is **not unique** either by fund or over time\n",
    "    - *begdt*: beginning date from which the mapping is vallid\n",
    "    - *enddt*: end date until which the mapping is valid\n",
    "- Needed to map funds to CRSP holdings"
   ]
  },
  {
   "cell_type": "code",
   "execution_count": null,
   "metadata": {
    "slideshow": {
     "slide_type": "subslide"
    }
   },
   "outputs": [],
   "source": [
    "print('The shape of the dataset is:', df.shape)\n",
    "print('The average number of crsp_portno per crsp_fundno (over time):', \n",
    "      df.groupby('crsp_fundno')['crsp_portno'].nunique().mean())\n",
    "print('The average number of crsp_fundno with the same crsp_portno is:', \n",
    "      df.groupby('crsp_portno')['crsp_fundno'].nunique().mean())\n",
    "df.head(2)"
   ]
  },
  {
   "cell_type": "markdown",
   "metadata": {
    "pycharm": {},
    "slideshow": {
     "slide_type": "subslide"
    }
   },
   "source": [
    "### get 'Mflinks_crsp.csv', (year: full available)"
   ]
  },
  {
   "cell_type": "code",
   "execution_count": null,
   "metadata": {
    "pycharm": {},
    "slideshow": {
     "slide_type": "fragment"
    }
   },
   "outputs": [],
   "source": [
    "exists = os.path.isfile(inputPath + 'Mflinks_crsp.csv')\n",
    "if exists:\n",
    "    t0 = time.time()\n",
    "    print('File already exists locally, loading file...')\n",
    "    df = pd.read_csv(inputPath + CRSP_FUNDNO_WFICN_name, low_memory=False)\n",
    "    t1 = time.time()\n",
    "    print('File loaded successfully in', t1-t0, 's')\n",
    "else:\n",
    "    print('Downloading Mflinks_crsp')\n",
    "    t0 = time.time()\n",
    "    df = db.get_table(library='mfl', table='mflink1')\n",
    "    df.to_csv(inputPath + \"Mflinks_crsp.csv\", index=False)\n",
    "    t1 = time.time()\n",
    "    print(\"Downloaded Mflinks_crsp Successfully in\", t1-t0, 's')"
   ]
  },
  {
   "cell_type": "markdown",
   "metadata": {
    "slideshow": {
     "slide_type": "subslide"
    }
   },
   "source": [
    "#### Mflinks_crsp: Dataset Description\n",
    "- **Key variables**: *CRSP_FUNDNO, WFICN*\n",
    "- Maps *CRSP_FUNDNO* to *WFICN* (the Thomson Reuters portfolio identifier)\n",
    "    - The mapping is **not** unique by fund but it **is** unique over time\n",
    "- Needed to map funds to Thomson holdings"
   ]
  },
  {
   "cell_type": "code",
   "execution_count": null,
   "metadata": {
    "slideshow": {
     "slide_type": "subslide"
    }
   },
   "outputs": [],
   "source": [
    "print('The shape of the dataset is:', df.shape)\n",
    "print('The average number of wficn per crsp_fundno (over time):', df.groupby('crsp_fundno')['wficn'].nunique().mean())\n",
    "print('The average number of crsp_fundno with the same wficn is:', df.groupby('wficn')['crsp_fundno'].nunique().mean())\n",
    "df.head(2)"
   ]
  },
  {
   "cell_type": "markdown",
   "metadata": {
    "slideshow": {
     "slide_type": "slide"
    }
   },
   "source": [
    "## Datasets needed for Lecture 2:"
   ]
  },
  {
   "cell_type": "markdown",
   "metadata": {
    "pycharm": {},
    "slideshow": {
     "slide_type": "subslide"
    }
   },
   "source": [
    "### get 'MonthlyReturns.csv', (year: 03/2008-06/2010)"
   ]
  },
  {
   "cell_type": "code",
   "execution_count": null,
   "metadata": {
    "pycharm": {},
    "slideshow": {
     "slide_type": "fragment"
    }
   },
   "outputs": [],
   "source": [
    "exists = os.path.isfile(inputPath + 'MonthlyReturns.csv')\n",
    "if exists:\n",
    "    t0 = time.time()\n",
    "    print('File already exists locally, loading file...')\n",
    "    df = pd.read_csv(inputPath + monthly_return_name, low_memory=False)\n",
    "    t1 = time.time()\n",
    "    print('File loaded successfully in', t1-t0, 's')\n",
    "else:\n",
    "    print('Downloading MonthlyReturns')\n",
    "    t0 = time.time()\n",
    "    df_query = \"SELECT * FROM crspq.monthly_tna_ret_nav WHERE (caldt BETWEEN '2008-03-01' AND '2010-07-01')\"\n",
    "    df = db.raw_sql(df_query)\n",
    "    df.to_csv(inputPath + \"MonthlyReturns.csv\", index=False)\n",
    "    t1 = time.time()\n",
    "    print(\"Downloaded MonthlyReturns Successfully in\", t1-t0, 's')"
   ]
  },
  {
   "cell_type": "markdown",
   "metadata": {
    "slideshow": {
     "slide_type": "subslide"
    }
   },
   "source": [
    "#### MonthlyReturns: Dataset Description\n",
    "- **Key variables**: *crsp_fundno, caldt*\n",
    "    - CRSP_FUNDNO: Identifies sub-funds at the share class level\n",
    "    - CALDT: calendar date monthly\n",
    "- Contains returns and TNA information at the monthly level"
   ]
  },
  {
   "cell_type": "code",
   "execution_count": null,
   "metadata": {
    "slideshow": {
     "slide_type": "subslide"
    }
   },
   "outputs": [],
   "source": [
    "print('The shape of the dataset is:', df.shape)\n",
    "print('The number of unique crsp_fundno is:', df['crsp_fundno'].nunique())\n",
    "df.head(2)"
   ]
  },
  {
   "cell_type": "markdown",
   "metadata": {
    "pycharm": {},
    "slideshow": {
     "slide_type": "subslide"
    }
   },
   "source": [
    "### get \"StockHeaderInfo.csv\", (year: full available)"
   ]
  },
  {
   "cell_type": "code",
   "execution_count": null,
   "metadata": {
    "pycharm": {},
    "slideshow": {
     "slide_type": "fragment"
    }
   },
   "outputs": [],
   "source": [
    "exists = os.path.isfile(inputPath + 'StockHeaderInfo.csv')\n",
    "if exists:\n",
    "    t0 = time.time()\n",
    "    print('File already exists locally, loading file...')\n",
    "    df = pd.read_csv(inputPath + \"StockHeaderInfo.csv\", low_memory=False)\n",
    "    t1 = time.time()\n",
    "    print('File loaded successfully in', t1-t0, 's')\n",
    "else:\n",
    "    print('Downloading StockHeaderInfo')\n",
    "    t0 = time.time()\n",
    "    df = db.get_table(library='crspq', table='dsfhdr')\n",
    "    df.to_csv(inputPath + \"StockHeaderInfo.csv\", index=False)\n",
    "    t1 = time.time()\n",
    "    print(\"Downloaded StockHeaderInfo Successfully in\", t1-t0, 's')"
   ]
  },
  {
   "cell_type": "markdown",
   "metadata": {
    "slideshow": {
     "slide_type": "subslide"
    }
   },
   "source": [
    "#### StockHeaderInfo: Dataset Description\n",
    "- **Key variables**: *PERMNO, various begin and end dates*\n",
    "    - *PERMNO*: CRSP's unique and permanent issue identification number\n",
    "- Contains descriptive information about CRSP stocks with the time period for which they are relevant"
   ]
  },
  {
   "cell_type": "code",
   "execution_count": null,
   "metadata": {
    "slideshow": {
     "slide_type": "subslide"
    }
   },
   "outputs": [],
   "source": [
    "print('The shape of the dataset is:', df.shape)\n",
    "df.head(2)"
   ]
  },
  {
   "cell_type": "markdown",
   "metadata": {
    "pycharm": {},
    "slideshow": {
     "slide_type": "subslide"
    }
   },
   "source": [
    "### get 'MonthlyStockFile.csv', (year: 03/2008-06/2010)"
   ]
  },
  {
   "cell_type": "code",
   "execution_count": null,
   "metadata": {
    "pycharm": {},
    "slideshow": {
     "slide_type": "subslide"
    }
   },
   "outputs": [],
   "source": [
    "exists = os.path.isfile(inputPath + 'MonthlyStockFile.csv')\n",
    "if exists:\n",
    "    t0 = time.time()\n",
    "    print('File already exists locally, loading file...')\n",
    "    df = pd.read_csv(inputPath + stocks_monthly_name, low_memory=False)\n",
    "    t1 = time.time()\n",
    "    print('File loaded successfully in', t1-t0, 's')\n",
    "else:\n",
    "    print('Downloading MonthlyStockFile')\n",
    "    t0 = time.time()\n",
    "    df_query = \"SELECT * FROM crspq.msf WHERE (crspq.msf.date BETWEEN '2008-03-01' AND '2010-07-01')\"\n",
    "    df = db.raw_sql(df_query)\n",
    "    df.to_csv(inputPath + \"MonthlyStockFile.csv\", index=False)\n",
    "    t1 = time.time()\n",
    "    print(\"Downloaded MonthlyStockFile Successfully in\", t1-t0, 's')"
   ]
  },
  {
   "cell_type": "markdown",
   "metadata": {
    "slideshow": {
     "slide_type": "subslide"
    }
   },
   "source": [
    "#### MonthlyStockFile: Dataset Description\n",
    "- **Key variables**: *permno, date*\n",
    "    - *permno* : permanent stock identifier\n",
    "    - *date* : date, monthly\n",
    "- Contains price, return, ... information about US stocks\n"
   ]
  },
  {
   "cell_type": "code",
   "execution_count": null,
   "metadata": {
    "slideshow": {
     "slide_type": "subslide"
    }
   },
   "outputs": [],
   "source": [
    "print('The shape of the dataset is:', df.shape)\n",
    "print('The number of unique stocks is:', df['permno'].nunique())\n",
    "df.head(2)"
   ]
  },
  {
   "cell_type": "markdown",
   "metadata": {
    "pycharm": {},
    "slideshow": {
     "slide_type": "subslide"
    }
   },
   "source": [
    "### get \"Mflinks_thompson.csv\", (year: full available)"
   ]
  },
  {
   "cell_type": "code",
   "execution_count": null,
   "metadata": {
    "pycharm": {},
    "slideshow": {
     "slide_type": "fragment"
    }
   },
   "outputs": [],
   "source": [
    "exists = os.path.isfile(inputPath + 'Mflinks_thompson.csv')\n",
    "if exists:\n",
    "    t0 = time.time()\n",
    "    print('File already exists locally, loading file...')\n",
    "    df = pd.read_csv(inputPath + FUNDNO_WFICN_name, low_memory=False)\n",
    "    t1 = time.time()\n",
    "    print('File loaded successfully in', t1-t0, 's')\n",
    "else:\n",
    "    print('Downloading Mflinks_thompson')\n",
    "    t0 = time.time()\n",
    "    df = db.get_table(library='mfl', table='mflink2')\n",
    "    df.to_csv(inputPath + \"Mflinks_thompson.csv\", index=False)\n",
    "    t1 = time.time()\n",
    "    print(\"Downloaded Mflinks_thompson Successfully in\", t1-t0, 's')"
   ]
  },
  {
   "cell_type": "markdown",
   "metadata": {
    "slideshow": {
     "slide_type": "subslide"
    }
   },
   "source": [
    "#### Mflinks_thompson: Dataset Description\n",
    "- **Key variables**: *FUNDNO, WFICN, fdate*\n",
    "- *FUNDNO*: is the fund level identifier in Thomson Reuters holdings data\n",
    "- Maps *FUNDNO* to *WFICN*\n",
    "    - The mapping is **not unique** by fund or over time\n",
    "- Needed to map funds information to Thomson holdings"
   ]
  },
  {
   "cell_type": "code",
   "execution_count": null,
   "metadata": {
    "slideshow": {
     "slide_type": "subslide"
    }
   },
   "outputs": [],
   "source": [
    "print('The shape of the dataset is:', df.shape)\n",
    "print('The average number of wficn per fundno (over time):', df.groupby('fundno')['wficn'].nunique().mean())\n",
    "print('The average number of fundno with the same wficn is:', df.groupby('wficn')['fundno'].nunique().mean())\n",
    "Util.isnull_chk(df, 'wficn')\n",
    "Util.isnull_chk(df, 'fundno')\n",
    "df.head(2)"
   ]
  },
  {
   "cell_type": "markdown",
   "metadata": {
    "pycharm": {},
    "slideshow": {
     "slide_type": "subslide"
    }
   },
   "source": [
    "### get 'thompsonmasterfile.csv', (year: 12/2007-03/2008)"
   ]
  },
  {
   "cell_type": "code",
   "execution_count": null,
   "metadata": {
    "pycharm": {},
    "slideshow": {
     "slide_type": "fragment"
    }
   },
   "outputs": [],
   "source": [
    "exists = os.path.isfile(inputPath + 'thompsonmasterfile.csv')\n",
    "if exists:\n",
    "    t0 = time.time()\n",
    "    print('File already exists locally, loading file...')\n",
    "    df = pd.read_csv(inputPath + thomson_Holdings_name, low_memory=False)\n",
    "    t1 = time.time()\n",
    "    print('File loaded successfully in', t1-t0, 's')\n",
    "else:\n",
    "    print('Downloading thompsonmasterfile')\n",
    "    t0 = time.time()\n",
    "    df_query = \"SELECT * FROM tfn.s12 WHERE (rdate BETWEEN '2007-12-01' AND '2008-04-01')\"\n",
    "    df = db.raw_sql(df_query)\n",
    "    df.to_csv(inputPath + \"thompsonmasterfile.csv\", index=False)\n",
    "    t1 = time.time()\n",
    "    print(\"Downloaded thompsonmasterfile Successfully in\", t1-t0, 's')"
   ]
  },
  {
   "cell_type": "markdown",
   "metadata": {
    "slideshow": {
     "slide_type": "subslide"
    }
   },
   "source": [
    "#### thompsonmasterfile: Dataset Description\n",
    "- **Key variables**: *fundno, fdate, cusip*\n",
    "    - *fundno* : Thomson fund identifier\n",
    "    - *fdate* : date of filing\n",
    "    - *cusip* : stock identifier\n",
    "- Contains holdings information from Thomson Holdings"
   ]
  },
  {
   "cell_type": "code",
   "execution_count": null,
   "metadata": {
    "slideshow": {
     "slide_type": "subslide"
    }
   },
   "outputs": [],
   "source": [
    "print('The shape of the dataset is:', df.shape)\n",
    "print('The number of unique funds is:', df[['fundno', 'fdate']].nunique())\n",
    "df.head(2)"
   ]
  },
  {
   "cell_type": "markdown",
   "metadata": {
    "slideshow": {
     "slide_type": "subslide"
    }
   },
   "source": [
    "### get 'CRSPHoldings.csv', (year: 03/2008-06/2010)"
   ]
  },
  {
   "cell_type": "code",
   "execution_count": null,
   "metadata": {
    "pycharm": {},
    "slideshow": {
     "slide_type": "fragment"
    }
   },
   "outputs": [],
   "source": [
    "exists = os.path.isfile(inputPath + CRSP_Holdings_name)\n",
    "if exists:\n",
    "    t0 = time.time()\n",
    "    print('File already exists locally, loading file...')\n",
    "    df = pd.read_csv(inputPath + CRSP_Holdings_name, low_memory=False)\n",
    "    t1 = time.time()\n",
    "    print('File loaded successfully in', t1-t0, 's')\n",
    "else:\n",
    "    print('Downloading CRSP_Holdings...')\n",
    "    t0 = time.time()\n",
    "    df_query_holdings = \"SELECT * FROM crspq.holdings WHERE (eff_dt BETWEEN '2008-03-01' AND '2010-07-01')\"\n",
    "    df = db.raw_sql(df_query_holdings)\n",
    "    df.to_csv(inputPath + \"CRSPHoldings\" + \".csv\", index=False)\n",
    "    t1 = time.time()\n",
    "    print(\"Downloaded CRSP Holding Successfully in\", t1-t0, 's')\n"
   ]
  },
  {
   "cell_type": "code",
   "execution_count": null,
   "metadata": {
    "pycharm": {},
    "slideshow": {
     "slide_type": "subslide"
    }
   },
   "outputs": [],
   "source": [
    "\"\"\"\n",
    "Download crsp_holdings year by year (if you don't want to wait for a long time\n",
    "\n",
    "df_query_list = [\n",
    "    \"SELECT * FROM crspq.holdings WHERE (eff_dt BETWEEN '2008-03-01' AND '2008-12-31')\",\n",
    "    \"SELECT * FROM crspq.holdings WHERE (eff_dt BETWEEN '2009-01-01' AND '2009-12-31')\",\n",
    "    \"SELECT * FROM crspq.holdings WHERE (eff_dt BETWEEN '2010-01-01' AND '2010-07-01')\"]\n",
    "\n",
    "for i in range(len(df_query_list)):\n",
    "    exists = os.path.isfile(inputPath + 'CRSP_Holdings'+ str(2008+i) + '.csv')\n",
    "    print ('year' + str(2008 + i))\n",
    "    if exists:\n",
    "        print('File exists')\n",
    "    else:\n",
    "        t0 = time.time()\n",
    "        print('Downloading CRSP_Holdings' + str(2008 + i) + '...')\n",
    "        df = db.raw_sql(df_query_list[i])\n",
    "        df.to_csv(\"CRSPHoldings\" + str(2008 + i) + \".csv\", index=False)\n",
    "        t1 = time.time()\n",
    "        print(\"Downloaded CRSP Holding Successfully in\", t1-t0, 's')\n",
    "\"\"\""
   ]
  },
  {
   "cell_type": "markdown",
   "metadata": {
    "slideshow": {
     "slide_type": "subslide"
    }
   },
   "source": [
    "#### CRSPHoldings: Dataset Description\n",
    "- **Key variables**: *crsp_portno, report_dt, cusip*\n",
    "    - *crsp_portno* : portfolio number is the unique identifier for a security or a group of securities held in a fund’s portfolio\n",
    "    - *report_dt* : date to which the holding correspond to\n",
    "    - *cusip* : stock identifier"
   ]
  },
  {
   "cell_type": "code",
   "execution_count": null,
   "metadata": {
    "slideshow": {
     "slide_type": "subslide"
    }
   },
   "outputs": [],
   "source": [
    "print('The shape of the dataset is:', df.shape)\n",
    "print('The number of unique portnos is:', df[['crsp_portno']].nunique())\n",
    "print('The list of unique dates is:')\n",
    "print(df.report_dt.unique())"
   ]
  },
  {
   "cell_type": "code",
   "execution_count": null,
   "metadata": {
    "slideshow": {
     "slide_type": "subslide"
    }
   },
   "outputs": [],
   "source": [
    "df.head(20)"
   ]
  },
  {
   "cell_type": "markdown",
   "metadata": {
    "pycharm": {},
    "slideshow": {
     "slide_type": "slide"
    }
   },
   "source": [
    "# Close Database Connection"
   ]
  },
  {
   "cell_type": "code",
   "execution_count": null,
   "metadata": {
    "pycharm": {},
    "slideshow": {
     "slide_type": "fragment"
    }
   },
   "outputs": [],
   "source": [
    "db.close()\n",
    "print('WRDS connection closed!')"
   ]
  }
 ],
 "metadata": {
  "celltoolbar": "Slideshow",
  "kernelspec": {
   "display_name": "Python 3",
   "language": "python",
   "name": "python3"
  },
  "language_info": {
   "codemirror_mode": {
    "name": "ipython",
    "version": 3
   },
   "file_extension": ".py",
   "mimetype": "text/x-python",
   "name": "python",
   "nbconvert_exporter": "python",
   "pygments_lexer": "ipython3",
   "version": "3.6.6"
  },
  "toc": {
   "base_numbering": 1.0,
   "nav_menu": {},
   "number_sections": true,
   "sideBar": true,
   "skip_h1_title": false,
   "title_cell": "Table of Contents",
   "title_sidebar": "Contents",
   "toc_cell": false,
   "toc_position": {},
   "toc_section_display": true,
   "toc_window_display": true
  }
 },
 "nbformat": 4,
 "nbformat_minor": 2
}
